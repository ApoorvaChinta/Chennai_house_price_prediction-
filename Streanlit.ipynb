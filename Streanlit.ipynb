{
  "cells": [
    {
      "cell_type": "markdown",
      "metadata": {
        "id": "view-in-github",
        "colab_type": "text"
      },
      "source": [
        "<a href=\"https://colab.research.google.com/github/ApoorvaChinta/Chennai_house_price_prediction-/blob/main/Streanlit.ipynb\" target=\"_parent\"><img src=\"https://colab.research.google.com/assets/colab-badge.svg\" alt=\"Open In Colab\"/></a>"
      ]
    },
    {
      "cell_type": "code",
      "execution_count": null,
      "metadata": {
        "colab": {
          "base_uri": "https://localhost:8080/"
        },
        "id": "6jYA90XLCZl8",
        "outputId": "02980db4-7e0c-4da6-97b0-74d531d694c6"
      },
      "outputs": [
        {
          "name": "stdout",
          "output_type": "stream",
          "text": [
            "Requirement already satisfied: streamlit in /usr/local/lib/python3.7/dist-packages (1.9.0)\n",
            "Requirement already satisfied: tzlocal in /usr/local/lib/python3.7/dist-packages (from streamlit) (1.5.1)\n",
            "Requirement already satisfied: click<8.1,>=7.0 in /usr/local/lib/python3.7/dist-packages (from streamlit) (7.1.2)\n",
            "Requirement already satisfied: semver in /usr/local/lib/python3.7/dist-packages (from streamlit) (2.13.0)\n",
            "Requirement already satisfied: protobuf!=3.11,>=3.6.0 in /usr/local/lib/python3.7/dist-packages (from streamlit) (3.17.3)\n",
            "Requirement already satisfied: typing-extensions in /usr/local/lib/python3.7/dist-packages (from streamlit) (4.2.0)\n",
            "Requirement already satisfied: validators in /usr/local/lib/python3.7/dist-packages (from streamlit) (0.19.0)\n",
            "Requirement already satisfied: pyarrow in /usr/local/lib/python3.7/dist-packages (from streamlit) (6.0.1)\n",
            "Requirement already satisfied: altair>=3.2.0 in /usr/local/lib/python3.7/dist-packages (from streamlit) (4.2.0)\n",
            "Requirement already satisfied: gitpython!=3.1.19 in /usr/local/lib/python3.7/dist-packages (from streamlit) (3.1.27)\n",
            "Requirement already satisfied: requests in /usr/local/lib/python3.7/dist-packages (from streamlit) (2.23.0)\n",
            "Requirement already satisfied: pympler>=0.9 in /usr/local/lib/python3.7/dist-packages (from streamlit) (1.0.1)\n",
            "Requirement already satisfied: blinker in /usr/local/lib/python3.7/dist-packages (from streamlit) (1.4)\n",
            "Requirement already satisfied: cachetools>=4.0 in /usr/local/lib/python3.7/dist-packages (from streamlit) (4.2.4)\n",
            "Requirement already satisfied: python-dateutil in /usr/local/lib/python3.7/dist-packages (from streamlit) (2.8.2)\n",
            "Requirement already satisfied: packaging in /usr/local/lib/python3.7/dist-packages (from streamlit) (21.3)\n",
            "Requirement already satisfied: pillow>=6.2.0 in /usr/local/lib/python3.7/dist-packages (from streamlit) (7.1.2)\n",
            "Requirement already satisfied: pydeck>=0.1.dev5 in /usr/local/lib/python3.7/dist-packages (from streamlit) (0.7.1)\n",
            "Requirement already satisfied: numpy in /usr/local/lib/python3.7/dist-packages (from streamlit) (1.21.6)\n",
            "Requirement already satisfied: pandas>=0.21.0 in /usr/local/lib/python3.7/dist-packages (from streamlit) (1.3.5)\n",
            "Requirement already satisfied: attrs in /usr/local/lib/python3.7/dist-packages (from streamlit) (21.4.0)\n",
            "Requirement already satisfied: importlib-metadata>=1.4 in /usr/local/lib/python3.7/dist-packages (from streamlit) (4.11.3)\n",
            "Requirement already satisfied: toml in /usr/local/lib/python3.7/dist-packages (from streamlit) (0.10.2)\n",
            "Requirement already satisfied: watchdog in /usr/local/lib/python3.7/dist-packages (from streamlit) (2.1.7)\n",
            "Requirement already satisfied: tornado>=5.0 in /usr/local/lib/python3.7/dist-packages (from streamlit) (6.1)\n",
            "Requirement already satisfied: entrypoints in /usr/local/lib/python3.7/dist-packages (from altair>=3.2.0->streamlit) (0.4)\n",
            "Requirement already satisfied: toolz in /usr/local/lib/python3.7/dist-packages (from altair>=3.2.0->streamlit) (0.11.2)\n",
            "Requirement already satisfied: jinja2 in /usr/local/lib/python3.7/dist-packages (from altair>=3.2.0->streamlit) (2.11.3)\n",
            "Requirement already satisfied: jsonschema>=3.0 in /usr/local/lib/python3.7/dist-packages (from altair>=3.2.0->streamlit) (4.3.3)\n",
            "Requirement already satisfied: gitdb<5,>=4.0.1 in /usr/local/lib/python3.7/dist-packages (from gitpython!=3.1.19->streamlit) (4.0.9)\n",
            "Requirement already satisfied: smmap<6,>=3.0.1 in /usr/local/lib/python3.7/dist-packages (from gitdb<5,>=4.0.1->gitpython!=3.1.19->streamlit) (5.0.0)\n",
            "Requirement already satisfied: zipp>=0.5 in /usr/local/lib/python3.7/dist-packages (from importlib-metadata>=1.4->streamlit) (3.8.0)\n",
            "Requirement already satisfied: importlib-resources>=1.4.0 in /usr/local/lib/python3.7/dist-packages (from jsonschema>=3.0->altair>=3.2.0->streamlit) (5.7.1)\n",
            "Requirement already satisfied: pyrsistent!=0.17.0,!=0.17.1,!=0.17.2,>=0.14.0 in /usr/local/lib/python3.7/dist-packages (from jsonschema>=3.0->altair>=3.2.0->streamlit) (0.18.1)\n",
            "Requirement already satisfied: pytz>=2017.3 in /usr/local/lib/python3.7/dist-packages (from pandas>=0.21.0->streamlit) (2022.1)\n",
            "Requirement already satisfied: six>=1.9 in /usr/local/lib/python3.7/dist-packages (from protobuf!=3.11,>=3.6.0->streamlit) (1.15.0)\n",
            "Requirement already satisfied: ipykernel>=5.1.2 in /usr/local/lib/python3.7/dist-packages (from pydeck>=0.1.dev5->streamlit) (6.13.0)\n",
            "Requirement already satisfied: traitlets>=4.3.2 in /usr/local/lib/python3.7/dist-packages (from pydeck>=0.1.dev5->streamlit) (5.1.1)\n",
            "Requirement already satisfied: ipywidgets>=7.0.0 in /usr/local/lib/python3.7/dist-packages (from pydeck>=0.1.dev5->streamlit) (7.7.0)\n",
            "Requirement already satisfied: ipython>=7.23.1 in /usr/local/lib/python3.7/dist-packages (from ipykernel>=5.1.2->pydeck>=0.1.dev5->streamlit) (7.33.0)\n",
            "Requirement already satisfied: jupyter-client>=6.1.12 in /usr/local/lib/python3.7/dist-packages (from ipykernel>=5.1.2->pydeck>=0.1.dev5->streamlit) (7.3.1)\n",
            "Requirement already satisfied: matplotlib-inline>=0.1 in /usr/local/lib/python3.7/dist-packages (from ipykernel>=5.1.2->pydeck>=0.1.dev5->streamlit) (0.1.3)\n",
            "Requirement already satisfied: nest-asyncio in /usr/local/lib/python3.7/dist-packages (from ipykernel>=5.1.2->pydeck>=0.1.dev5->streamlit) (1.5.5)\n",
            "Requirement already satisfied: psutil in /usr/local/lib/python3.7/dist-packages (from ipykernel>=5.1.2->pydeck>=0.1.dev5->streamlit) (5.4.8)\n",
            "Requirement already satisfied: debugpy>=1.0 in /usr/local/lib/python3.7/dist-packages (from ipykernel>=5.1.2->pydeck>=0.1.dev5->streamlit) (1.0.0)\n",
            "Requirement already satisfied: pickleshare in /usr/local/lib/python3.7/dist-packages (from ipython>=7.23.1->ipykernel>=5.1.2->pydeck>=0.1.dev5->streamlit) (0.7.5)\n",
            "Requirement already satisfied: decorator in /usr/local/lib/python3.7/dist-packages (from ipython>=7.23.1->ipykernel>=5.1.2->pydeck>=0.1.dev5->streamlit) (4.4.2)\n",
            "Requirement already satisfied: backcall in /usr/local/lib/python3.7/dist-packages (from ipython>=7.23.1->ipykernel>=5.1.2->pydeck>=0.1.dev5->streamlit) (0.2.0)\n",
            "Requirement already satisfied: jedi>=0.16 in /usr/local/lib/python3.7/dist-packages (from ipython>=7.23.1->ipykernel>=5.1.2->pydeck>=0.1.dev5->streamlit) (0.18.1)\n",
            "Requirement already satisfied: prompt-toolkit!=3.0.0,!=3.0.1,<3.1.0,>=2.0.0 in /usr/local/lib/python3.7/dist-packages (from ipython>=7.23.1->ipykernel>=5.1.2->pydeck>=0.1.dev5->streamlit) (3.0.29)\n",
            "Requirement already satisfied: pexpect>4.3 in /usr/local/lib/python3.7/dist-packages (from ipython>=7.23.1->ipykernel>=5.1.2->pydeck>=0.1.dev5->streamlit) (4.8.0)\n",
            "Requirement already satisfied: pygments in /usr/local/lib/python3.7/dist-packages (from ipython>=7.23.1->ipykernel>=5.1.2->pydeck>=0.1.dev5->streamlit) (2.6.1)\n",
            "Requirement already satisfied: setuptools>=18.5 in /usr/local/lib/python3.7/dist-packages (from ipython>=7.23.1->ipykernel>=5.1.2->pydeck>=0.1.dev5->streamlit) (57.4.0)\n",
            "Requirement already satisfied: jupyterlab-widgets>=1.0.0 in /usr/local/lib/python3.7/dist-packages (from ipywidgets>=7.0.0->pydeck>=0.1.dev5->streamlit) (1.1.0)\n",
            "Requirement already satisfied: widgetsnbextension~=3.6.0 in /usr/local/lib/python3.7/dist-packages (from ipywidgets>=7.0.0->pydeck>=0.1.dev5->streamlit) (3.6.0)\n",
            "Requirement already satisfied: nbformat>=4.2.0 in /usr/local/lib/python3.7/dist-packages (from ipywidgets>=7.0.0->pydeck>=0.1.dev5->streamlit) (5.3.0)\n",
            "Requirement already satisfied: ipython-genutils~=0.2.0 in /usr/local/lib/python3.7/dist-packages (from ipywidgets>=7.0.0->pydeck>=0.1.dev5->streamlit) (0.2.0)\n",
            "Requirement already satisfied: parso<0.9.0,>=0.8.0 in /usr/local/lib/python3.7/dist-packages (from jedi>=0.16->ipython>=7.23.1->ipykernel>=5.1.2->pydeck>=0.1.dev5->streamlit) (0.8.3)\n",
            "Requirement already satisfied: MarkupSafe>=0.23 in /usr/local/lib/python3.7/dist-packages (from jinja2->altair>=3.2.0->streamlit) (2.0.1)\n",
            "Requirement already satisfied: pyzmq>=22.3 in /usr/local/lib/python3.7/dist-packages (from jupyter-client>=6.1.12->ipykernel>=5.1.2->pydeck>=0.1.dev5->streamlit) (22.3.0)\n",
            "Requirement already satisfied: jupyter-core>=4.9.2 in /usr/local/lib/python3.7/dist-packages (from jupyter-client>=6.1.12->ipykernel>=5.1.2->pydeck>=0.1.dev5->streamlit) (4.10.0)\n",
            "Requirement already satisfied: fastjsonschema in /usr/local/lib/python3.7/dist-packages (from nbformat>=4.2.0->ipywidgets>=7.0.0->pydeck>=0.1.dev5->streamlit) (2.15.3)\n",
            "Requirement already satisfied: ptyprocess>=0.5 in /usr/local/lib/python3.7/dist-packages (from pexpect>4.3->ipython>=7.23.1->ipykernel>=5.1.2->pydeck>=0.1.dev5->streamlit) (0.7.0)\n",
            "Requirement already satisfied: wcwidth in /usr/local/lib/python3.7/dist-packages (from prompt-toolkit!=3.0.0,!=3.0.1,<3.1.0,>=2.0.0->ipython>=7.23.1->ipykernel>=5.1.2->pydeck>=0.1.dev5->streamlit) (0.2.5)\n",
            "Requirement already satisfied: notebook>=4.4.1 in /usr/local/lib/python3.7/dist-packages (from widgetsnbextension~=3.6.0->ipywidgets>=7.0.0->pydeck>=0.1.dev5->streamlit) (5.3.1)\n",
            "Requirement already satisfied: terminado>=0.8.1 in /usr/local/lib/python3.7/dist-packages (from notebook>=4.4.1->widgetsnbextension~=3.6.0->ipywidgets>=7.0.0->pydeck>=0.1.dev5->streamlit) (0.13.3)\n",
            "Requirement already satisfied: Send2Trash in /usr/local/lib/python3.7/dist-packages (from notebook>=4.4.1->widgetsnbextension~=3.6.0->ipywidgets>=7.0.0->pydeck>=0.1.dev5->streamlit) (1.8.0)\n",
            "Requirement already satisfied: nbconvert in /usr/local/lib/python3.7/dist-packages (from notebook>=4.4.1->widgetsnbextension~=3.6.0->ipywidgets>=7.0.0->pydeck>=0.1.dev5->streamlit) (5.6.1)\n",
            "Requirement already satisfied: pandocfilters>=1.4.1 in /usr/local/lib/python3.7/dist-packages (from nbconvert->notebook>=4.4.1->widgetsnbextension~=3.6.0->ipywidgets>=7.0.0->pydeck>=0.1.dev5->streamlit) (1.5.0)\n",
            "Requirement already satisfied: testpath in /usr/local/lib/python3.7/dist-packages (from nbconvert->notebook>=4.4.1->widgetsnbextension~=3.6.0->ipywidgets>=7.0.0->pydeck>=0.1.dev5->streamlit) (0.6.0)\n",
            "Requirement already satisfied: mistune<2,>=0.8.1 in /usr/local/lib/python3.7/dist-packages (from nbconvert->notebook>=4.4.1->widgetsnbextension~=3.6.0->ipywidgets>=7.0.0->pydeck>=0.1.dev5->streamlit) (0.8.4)\n",
            "Requirement already satisfied: defusedxml in /usr/local/lib/python3.7/dist-packages (from nbconvert->notebook>=4.4.1->widgetsnbextension~=3.6.0->ipywidgets>=7.0.0->pydeck>=0.1.dev5->streamlit) (0.7.1)\n",
            "Requirement already satisfied: bleach in /usr/local/lib/python3.7/dist-packages (from nbconvert->notebook>=4.4.1->widgetsnbextension~=3.6.0->ipywidgets>=7.0.0->pydeck>=0.1.dev5->streamlit) (5.0.0)\n",
            "Requirement already satisfied: webencodings in /usr/local/lib/python3.7/dist-packages (from bleach->nbconvert->notebook>=4.4.1->widgetsnbextension~=3.6.0->ipywidgets>=7.0.0->pydeck>=0.1.dev5->streamlit) (0.5.1)\n",
            "Requirement already satisfied: pyparsing!=3.0.5,>=2.0.2 in /usr/local/lib/python3.7/dist-packages (from packaging->streamlit) (3.0.8)\n",
            "Requirement already satisfied: urllib3!=1.25.0,!=1.25.1,<1.26,>=1.21.1 in /usr/local/lib/python3.7/dist-packages (from requests->streamlit) (1.24.3)\n",
            "Requirement already satisfied: certifi>=2017.4.17 in /usr/local/lib/python3.7/dist-packages (from requests->streamlit) (2021.10.8)\n",
            "Requirement already satisfied: chardet<4,>=3.0.2 in /usr/local/lib/python3.7/dist-packages (from requests->streamlit) (3.0.4)\n",
            "Requirement already satisfied: idna<3,>=2.5 in /usr/local/lib/python3.7/dist-packages (from requests->streamlit) (2.10)\n"
          ]
        }
      ],
      "source": [
        "!pip install streamlit"
      ]
    },
    {
      "cell_type": "code",
      "execution_count": null,
      "metadata": {
        "colab": {
          "base_uri": "https://localhost:8080/"
        },
        "id": "nV9xENt1Cpov",
        "outputId": "2f4205e1-c951-43e1-be57-ebfa54f1597f"
      },
      "outputs": [
        {
          "name": "stdout",
          "output_type": "stream",
          "text": [
            "Collecting pyngrok\n",
            "  Downloading pyngrok-5.1.0.tar.gz (745 kB)\n",
            "\u001b[?25l\r\u001b[K     |▍                               | 10 kB 15.7 MB/s eta 0:00:01\r\u001b[K     |▉                               | 20 kB 21.1 MB/s eta 0:00:01\r\u001b[K     |█▎                              | 30 kB 25.0 MB/s eta 0:00:01\r\u001b[K     |█▊                              | 40 kB 17.6 MB/s eta 0:00:01\r\u001b[K     |██▏                             | 51 kB 7.9 MB/s eta 0:00:01\r\u001b[K     |██▋                             | 61 kB 9.2 MB/s eta 0:00:01\r\u001b[K     |███                             | 71 kB 7.9 MB/s eta 0:00:01\r\u001b[K     |███▌                            | 81 kB 8.8 MB/s eta 0:00:01\r\u001b[K     |████                            | 92 kB 9.7 MB/s eta 0:00:01\r\u001b[K     |████▍                           | 102 kB 8.5 MB/s eta 0:00:01\r\u001b[K     |████▉                           | 112 kB 8.5 MB/s eta 0:00:01\r\u001b[K     |█████▎                          | 122 kB 8.5 MB/s eta 0:00:01\r\u001b[K     |█████▊                          | 133 kB 8.5 MB/s eta 0:00:01\r\u001b[K     |██████▏                         | 143 kB 8.5 MB/s eta 0:00:01\r\u001b[K     |██████▋                         | 153 kB 8.5 MB/s eta 0:00:01\r\u001b[K     |███████                         | 163 kB 8.5 MB/s eta 0:00:01\r\u001b[K     |███████▌                        | 174 kB 8.5 MB/s eta 0:00:01\r\u001b[K     |████████                        | 184 kB 8.5 MB/s eta 0:00:01\r\u001b[K     |████████▍                       | 194 kB 8.5 MB/s eta 0:00:01\r\u001b[K     |████████▉                       | 204 kB 8.5 MB/s eta 0:00:01\r\u001b[K     |█████████▎                      | 215 kB 8.5 MB/s eta 0:00:01\r\u001b[K     |█████████▊                      | 225 kB 8.5 MB/s eta 0:00:01\r\u001b[K     |██████████▏                     | 235 kB 8.5 MB/s eta 0:00:01\r\u001b[K     |██████████▌                     | 245 kB 8.5 MB/s eta 0:00:01\r\u001b[K     |███████████                     | 256 kB 8.5 MB/s eta 0:00:01\r\u001b[K     |███████████▍                    | 266 kB 8.5 MB/s eta 0:00:01\r\u001b[K     |███████████▉                    | 276 kB 8.5 MB/s eta 0:00:01\r\u001b[K     |████████████▎                   | 286 kB 8.5 MB/s eta 0:00:01\r\u001b[K     |████████████▊                   | 296 kB 8.5 MB/s eta 0:00:01\r\u001b[K     |█████████████▏                  | 307 kB 8.5 MB/s eta 0:00:01\r\u001b[K     |█████████████▋                  | 317 kB 8.5 MB/s eta 0:00:01\r\u001b[K     |██████████████                  | 327 kB 8.5 MB/s eta 0:00:01\r\u001b[K     |██████████████▌                 | 337 kB 8.5 MB/s eta 0:00:01\r\u001b[K     |███████████████                 | 348 kB 8.5 MB/s eta 0:00:01\r\u001b[K     |███████████████▍                | 358 kB 8.5 MB/s eta 0:00:01\r\u001b[K     |███████████████▉                | 368 kB 8.5 MB/s eta 0:00:01\r\u001b[K     |████████████████▎               | 378 kB 8.5 MB/s eta 0:00:01\r\u001b[K     |████████████████▊               | 389 kB 8.5 MB/s eta 0:00:01\r\u001b[K     |█████████████████▏              | 399 kB 8.5 MB/s eta 0:00:01\r\u001b[K     |█████████████████▋              | 409 kB 8.5 MB/s eta 0:00:01\r\u001b[K     |██████████████████              | 419 kB 8.5 MB/s eta 0:00:01\r\u001b[K     |██████████████████▌             | 430 kB 8.5 MB/s eta 0:00:01\r\u001b[K     |███████████████████             | 440 kB 8.5 MB/s eta 0:00:01\r\u001b[K     |███████████████████▍            | 450 kB 8.5 MB/s eta 0:00:01\r\u001b[K     |███████████████████▉            | 460 kB 8.5 MB/s eta 0:00:01\r\u001b[K     |████████████████████▎           | 471 kB 8.5 MB/s eta 0:00:01\r\u001b[K     |████████████████████▋           | 481 kB 8.5 MB/s eta 0:00:01\r\u001b[K     |█████████████████████           | 491 kB 8.5 MB/s eta 0:00:01\r\u001b[K     |█████████████████████▌          | 501 kB 8.5 MB/s eta 0:00:01\r\u001b[K     |██████████████████████          | 512 kB 8.5 MB/s eta 0:00:01\r\u001b[K     |██████████████████████▍         | 522 kB 8.5 MB/s eta 0:00:01\r\u001b[K     |██████████████████████▉         | 532 kB 8.5 MB/s eta 0:00:01\r\u001b[K     |███████████████████████▎        | 542 kB 8.5 MB/s eta 0:00:01\r\u001b[K     |███████████████████████▊        | 552 kB 8.5 MB/s eta 0:00:01\r\u001b[K     |████████████████████████▏       | 563 kB 8.5 MB/s eta 0:00:01\r\u001b[K     |████████████████████████▋       | 573 kB 8.5 MB/s eta 0:00:01\r\u001b[K     |█████████████████████████       | 583 kB 8.5 MB/s eta 0:00:01\r\u001b[K     |█████████████████████████▌      | 593 kB 8.5 MB/s eta 0:00:01\r\u001b[K     |██████████████████████████      | 604 kB 8.5 MB/s eta 0:00:01\r\u001b[K     |██████████████████████████▍     | 614 kB 8.5 MB/s eta 0:00:01\r\u001b[K     |██████████████████████████▉     | 624 kB 8.5 MB/s eta 0:00:01\r\u001b[K     |███████████████████████████▎    | 634 kB 8.5 MB/s eta 0:00:01\r\u001b[K     |███████████████████████████▊    | 645 kB 8.5 MB/s eta 0:00:01\r\u001b[K     |████████████████████████████▏   | 655 kB 8.5 MB/s eta 0:00:01\r\u001b[K     |████████████████████████████▋   | 665 kB 8.5 MB/s eta 0:00:01\r\u001b[K     |█████████████████████████████   | 675 kB 8.5 MB/s eta 0:00:01\r\u001b[K     |█████████████████████████████▌  | 686 kB 8.5 MB/s eta 0:00:01\r\u001b[K     |██████████████████████████████  | 696 kB 8.5 MB/s eta 0:00:01\r\u001b[K     |██████████████████████████████▍ | 706 kB 8.5 MB/s eta 0:00:01\r\u001b[K     |██████████████████████████████▊ | 716 kB 8.5 MB/s eta 0:00:01\r\u001b[K     |███████████████████████████████▏| 727 kB 8.5 MB/s eta 0:00:01\r\u001b[K     |███████████████████████████████▋| 737 kB 8.5 MB/s eta 0:00:01\r\u001b[K     |████████████████████████████████| 745 kB 8.5 MB/s \n",
            "\u001b[?25hRequirement already satisfied: PyYAML in /usr/local/lib/python3.7/dist-packages (from pyngrok) (3.13)\n",
            "Building wheels for collected packages: pyngrok\n",
            "  Building wheel for pyngrok (setup.py) ... \u001b[?25l\u001b[?25hdone\n",
            "  Created wheel for pyngrok: filename=pyngrok-5.1.0-py3-none-any.whl size=19007 sha256=9d4efacdf7933266dd285b8ee085f9be44d3cc14eb66316da59c63b5861eaebb\n",
            "  Stored in directory: /root/.cache/pip/wheels/bf/e6/af/ccf6598ecefecd44104069371795cb9b3afbcd16987f6ccfb3\n",
            "Successfully built pyngrok\n",
            "Installing collected packages: pyngrok\n",
            "Successfully installed pyngrok-5.1.0\n"
          ]
        }
      ],
      "source": [
        "!pip install pyngrok"
      ]
    },
    {
      "cell_type": "code",
      "execution_count": 22,
      "metadata": {
        "colab": {
          "base_uri": "https://localhost:8080/"
        },
        "id": "HND37IB7SysW",
        "outputId": "b08a1187-2fca-46eb-fb3e-cb5b06072e36"
      },
      "outputs": [
        {
          "output_type": "stream",
          "name": "stdout",
          "text": [
            "Overwriting app.py\n"
          ]
        }
      ],
      "source": [
        "%%writefile app.py\n",
        "import streamlit as st\n",
        "import pandas as pd\n",
        "import pickle\n",
        "\n",
        "data=pd.read_csv('/content/cleaned.csv')\n",
        "model=pickle.load(open('/content/model_pkl','rb'))\n",
        "\n",
        "st.title('CHENNAI HOUSE PRICE PREDICTION')\n",
        "\n",
        "def main():\n",
        "  #creating dropdown\n",
        "\n",
        "  col1,col2=st.columns([1,1])\n",
        "  with col1:\n",
        "    st.title('Chennai Homes')\n",
        "  with col2:\n",
        "    page=st.sidebar.selectbox('Select One',['Home','Price Predictor','Explore','Creator'])\n",
        "    if page=='Home':\n",
        "      st.title('Welcome to ChennaiHomes')\n",
        "    if page=='Predict Price':\n",
        "      st.title('Price Prediction')\n",
        "      AREA= st.selectbox('Which area do you prefer', data.AREA.Unique())\n",
        "      if AREA=='Chrompet':\n",
        "        grouped=data[data['AREA']=='Chrompet']\n",
        "        AREA=2\n",
        "      elif AREA=='Karapakkam':\n",
        "        grouped=data[data['AREA']=='Karapakkam']\n",
        "        AREA=4\n",
        "      elif AREA=='KK NAGAR':\n",
        "        grouped=data[data['AREA']=='KK Nagar']\n",
        "        AREA=3\n",
        "      elif AREA=='Anna Nagar':\n",
        "        grouped=data[data['AREA']=='Anna Nagar']\n",
        "        AREA=1\n",
        "      elif AREA=='Adyar':\n",
        "        grouped=data[data['AREA']=='Adyar']\n",
        "        AREA=0\n",
        "      elif AREA=='T Nagar':\n",
        "        grouped=data[data['AREA']=='T Nagar']\n",
        "        AREA=5\n",
        "      elif AREA=='Velachery':\n",
        "        grouped=data[data['AREA']=='Velachery']\n",
        "        AREA=6\n",
        "      \n",
        "      INT_SQFT=st.slider('Expected SQFT',int(data.INT_SQFT.min()),int(data.INT_SQFT.max()))\n",
        "      N_BEDROOM=st.slider('Number of Bedrooms',int(data.N_BEDROOM.min()),int(data.N_BEDROOM.max()))\n",
        "      PARK_FACIL=st.radio('Pakring Area',data.PARK_FACIL.unique())\n",
        "      if PARK_FACIL=='Yes':\n",
        "        PARK_FACIL=1\n",
        "      else:\n",
        "        PARK_FACIL=0\n",
        "\n",
        "      MZZONE=st.selectbox('Zone Preference',grouped.MZZONE.unique())\n",
        "      if MZZONE=='A':\n",
        "        MZZONE=0\n",
        "      elif MZZONE=='RH':\n",
        "        MZZONE=3\n",
        "      elif MZZONE=='RL':\n",
        "        MZZONE=4\n",
        "      elif MZZONE=='I':\n",
        "        MZZONE=2\n",
        "      elif MZZONE=='C':\n",
        "        MZZONE=5\n",
        "      \n",
        "      BUILD_TYPE=st.radio('Type of building required',data.BUILD_TYPE.unique())\n",
        "\n",
        "      if BUILD_TYPE=='House':\n",
        "        BUILD_TYPE=1\n",
        "      elif BUILD_TYPE=='Others':\n",
        "        BUILD_TYPE=2\n",
        "      else:\n",
        "        BUILDTYPE=0\n",
        "\n",
        "      STREET=st.selectbox('Accesibility',data.STREET.unique())\n",
        "\n",
        "      if STREET=='Gravel':\n",
        "        STREET=0\n",
        "      elif STREET=='Paved':\n",
        "        STREET=2\n",
        "      else:\n",
        "        STREET=1\n",
        "      \n",
        "      input=pd.DataFrame([[INT_SQFT,BUILDTYPE,MZZONE,AREA,N_BEDROOM,PARK_FACIL,STREET]],columns=['INT_SQFT','BUILDTYPE','MZZONE','AREA','N_BEDROOM','PARK_FACIL','STREET'],index=['index'])\n",
        "\n",
        "      pred=model.predict(input)\n",
        "      low=int(pred-(pred*0.02))\n",
        "      high=int(pred+(pred*0.02))\n",
        "\n",
        "      if st.button('Predicted Price',help='Click to predict the price'):\n",
        "        #st.markdown('<h1 style='text_align: center; color:Black;'>Predicted House Price</h1>',unsafe_allow_html=True)\n",
        "        st.write(low,'to',high)\n",
        "        st.snow()\n",
        "\n",
        "  if __name__=='__main__':\n",
        "    app()"
      ]
    },
    {
      "cell_type": "code",
      "execution_count": null,
      "metadata": {
        "id": "nI7AIOyYXiK1"
      },
      "outputs": [],
      "source": [
        "!streamlit run app.py & npx localtunnel --port 8501"
      ]
    }
  ],
  "metadata": {
    "colab": {
      "name": "Streanlit.ipynb",
      "provenance": [],
      "authorship_tag": "ABX9TyMt63B4e2e0przjzlmoWPZG",
      "include_colab_link": true
    },
    "kernelspec": {
      "display_name": "Python 3",
      "name": "python3"
    },
    "language_info": {
      "name": "python"
    }
  },
  "nbformat": 4,
  "nbformat_minor": 0
}